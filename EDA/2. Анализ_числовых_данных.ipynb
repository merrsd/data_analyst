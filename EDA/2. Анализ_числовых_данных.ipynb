{
  "nbformat": 4,
  "nbformat_minor": 0,
  "metadata": {
    "colab": {
      "provenance": []
    },
    "kernelspec": {
      "name": "python3",
      "display_name": "Python 3"
    },
    "language_info": {
      "name": "python"
    }
  },
  "cells": [
    {
      "cell_type": "markdown",
      "source": [
        "# Анализ числовых данных"
      ],
      "metadata": {
        "id": "GUI3iu4U-hGZ"
      }
    },
    {
      "cell_type": "code",
      "execution_count": 1,
      "metadata": {
        "id": "NomeMpJJ-b0W",
        "colab": {
          "base_uri": "https://localhost:8080/"
        },
        "outputId": "cd759f66-f194-48e6-b5de-c4571cf0f31f"
      },
      "outputs": [
        {
          "output_type": "stream",
          "name": "stdout",
          "text": [
            "/usr/local/lib/python3.10/dist-packages/gdown/cli.py:121: FutureWarning: Option `--id` was deprecated in version 4.3.1 and will be removed in 5.0. You don't need to pass it anymore to use a file ID.\n",
            "  warnings.warn(\n",
            "Downloading...\n",
            "From: https://drive.google.com/uc?id=1LjVzFpLoB0vfB1wSuc7PxZ0VyiJFNOVS\n",
            "To: /content/housing_market_dataset.csv\n",
            "100% 29.4M/29.4M [00:00<00:00, 213MB/s]\n"
          ]
        }
      ],
      "source": [
        "!gdown --id 1LjVzFpLoB0vfB1wSuc7PxZ0VyiJFNOVS \n",
        "import pandas as pd\n",
        "dataset = pd.read_csv('housing_market_dataset.csv') "
      ]
    },
    {
      "cell_type": "markdown",
      "source": [
        "## Неграфический анализ"
      ],
      "metadata": {
        "id": "S435FMrE11T7"
      }
    },
    {
      "cell_type": "markdown",
      "source": [
        "![](https://miro.medium.com/max/1400/0*YwPNRwWwTfra-IzR)\n",
        "Особенности Series  \n",
        "*   В Series индексы привязаны к элементу и при сортировке связь сохраняется \n",
        "*   Индексы могут быть не только целыми числами, но также строками или датами, как в dict\n"
      ],
      "metadata": {
        "id": "1gOSLVNMTwDQ"
      }
    },
    {
      "cell_type": "markdown",
      "source": [
        "### Какой год постройки максимальный и минимальный?"
      ],
      "metadata": {
        "id": "9_brvQJ5QiYz"
      }
    },
    {
      "cell_type": "code",
      "source": [
        "year_of_construction = dataset['Год постройки']"
      ],
      "metadata": {
        "id": "10vrAcQVeDzS"
      },
      "execution_count": 2,
      "outputs": []
    },
    {
      "cell_type": "code",
      "source": [
        "max_value = year_of_construction.max()\n",
        "min_value = year_of_construction.min()\n",
        "print('Максимальный год постройки: ', max_value, 'Минимальный год постройки: ', min_value)"
      ],
      "metadata": {
        "id": "kUQ5zaBgiCEL",
        "colab": {
          "base_uri": "https://localhost:8080/"
        },
        "outputId": "1094d0f8-4756-4247-989e-df5b8ac6869d"
      },
      "execution_count": 3,
      "outputs": [
        {
          "output_type": "stream",
          "name": "stdout",
          "text": [
            "Максимальный год постройки:  2021.0 Минимальный год постройки:  1876.0\n"
          ]
        }
      ]
    },
    {
      "cell_type": "markdown",
      "source": [
        "### Какой год построки средний?"
      ],
      "metadata": {
        "id": "dNNLWpO9Qy0Y"
      }
    },
    {
      "cell_type": "code",
      "source": [
        "mean_value = year_of_construction.mean()\n",
        "print('Средний год постройки: ', mean_value)"
      ],
      "metadata": {
        "id": "GwMDerSqi8wp",
        "colab": {
          "base_uri": "https://localhost:8080/"
        },
        "outputId": "6b143c57-c420-48a8-e68d-a85ce721074c"
      },
      "execution_count": 4,
      "outputs": [
        {
          "output_type": "stream",
          "name": "stdout",
          "text": [
            "Средний год постройки:  2001.1397864768683\n"
          ]
        }
      ]
    },
    {
      "cell_type": "markdown",
      "source": [
        "### Альтернативный способ - медиана\n",
        "Медиана — число, которое находится ровно в середине отсортированного массива значений"
      ],
      "metadata": {
        "id": "G6YlCXosQx4A"
      }
    },
    {
      "cell_type": "code",
      "source": [
        "[1900, 2022, 2022, 2021, 2019] # среднее = 1996.8, медиана = 2021"
      ],
      "metadata": {
        "id": "vF8a10WEjza4"
      },
      "execution_count": null,
      "outputs": []
    },
    {
      "cell_type": "code",
      "source": [
        "median_value = year_of_construction.median()\n",
        "print('Медиана года постройки: ', median_value)"
      ],
      "metadata": {
        "id": "Yzm6D1EKjcDv",
        "colab": {
          "base_uri": "https://localhost:8080/"
        },
        "outputId": "d69dab8d-1d15-41eb-c4fd-1617f47184aa"
      },
      "execution_count": 5,
      "outputs": [
        {
          "output_type": "stream",
          "name": "stdout",
          "text": [
            "Медиана года постройки:  2018.0\n"
          ]
        }
      ]
    },
    {
      "cell_type": "markdown",
      "source": [
        "### Процентили\n",
        "Процентиль — мера, в которой определенный процент всех значений в датасете равен этой мере или меньше ее"
      ],
      "metadata": {
        "id": "Vp-T8Xu5RD37"
      }
    },
    {
      "cell_type": "code",
      "source": [
        "percentile_10_value = year_of_construction.quantile(0.10)\n",
        "percentile_25_value = year_of_construction.quantile(0.25)\n",
        "percentile_50_value = year_of_construction.quantile(0.50)\n",
        "percentile_75_value = year_of_construction.quantile(0.75)\n",
        "percentile_90_value = year_of_construction.quantile(0.90)\n",
        "print('10-й процентиль года постройки: ', percentile_10_value)\n",
        "print('25-й процентиль года постройки: ', percentile_25_value)\n",
        "print('50-й процентиль года постройки: ', percentile_50_value)\n",
        "print('75-й процентиль года постройки: ', percentile_75_value)\n",
        "print('90-й процентиль года постройки: ', percentile_90_value)"
      ],
      "metadata": {
        "id": "P3nEKTl13jJT",
        "colab": {
          "base_uri": "https://localhost:8080/"
        },
        "outputId": "e3fe8340-3356-4059-df2c-92ca329701b5"
      },
      "execution_count": 6,
      "outputs": [
        {
          "output_type": "stream",
          "name": "stdout",
          "text": [
            "10-й процентиль года постройки:  1962.0\n",
            "25-й процентиль года постройки:  1979.0\n",
            "50-й процентиль года постройки:  2018.0\n",
            "75-й процентиль года постройки:  2019.0\n",
            "90-й процентиль года постройки:  2020.0\n"
          ]
        }
      ]
    },
    {
      "cell_type": "markdown",
      "source": [
        "### Describe"
      ],
      "metadata": {
        "id": "jC7MIhozrv0a"
      }
    },
    {
      "cell_type": "code",
      "source": [
        "year_of_construction.describe()"
      ],
      "metadata": {
        "id": "MBPJyDPp2OhD",
        "colab": {
          "base_uri": "https://localhost:8080/"
        },
        "outputId": "be389ed1-5440-477e-f1d5-e933252797ca"
      },
      "execution_count": 7,
      "outputs": [
        {
          "output_type": "execute_result",
          "data": {
            "text/plain": [
              "count    7025.000000\n",
              "mean     2001.139786\n",
              "std        25.060692\n",
              "min      1876.000000\n",
              "25%      1979.000000\n",
              "50%      2018.000000\n",
              "75%      2019.000000\n",
              "max      2021.000000\n",
              "Name: Год постройки, dtype: float64"
            ]
          },
          "metadata": {},
          "execution_count": 7
        }
      ]
    },
    {
      "cell_type": "code",
      "source": [
        "dataset.describe()"
      ],
      "metadata": {
        "id": "7nuh8cQa3xci",
        "colab": {
          "base_uri": "https://localhost:8080/",
          "height": 297
        },
        "outputId": "5454f5c9-fbd8-40f5-8785-0a3c69a69616"
      },
      "execution_count": 8,
      "outputs": [
        {
          "output_type": "execute_result",
          "data": {
            "text/plain": [
              "       Год постройки  Кол-во просмотров  Кол-во просмотров сегодня  \\\n",
              "count    7025.000000       13001.000000                7224.000000   \n",
              "mean     2001.139786          94.524190                   1.844546   \n",
              "std        25.060692         199.666472                   2.712400   \n",
              "min      1876.000000           1.000000                   1.000000   \n",
              "25%      1979.000000          35.000000                   1.000000   \n",
              "50%      2018.000000          65.000000                   1.000000   \n",
              "75%      2019.000000          97.000000                   2.000000   \n",
              "max      2021.000000        5739.000000                  38.000000   \n",
              "\n",
              "       Количество этажей  Количество комнат     Этажность   Номер этажа  \\\n",
              "count       12510.000000       13001.000000  13001.000000  13001.000000   \n",
              "mean           17.488649           1.974848     17.444043      8.624798   \n",
              "std            19.682982           0.912510      9.728213      6.693463   \n",
              "min             1.000000           1.000000      1.000000      1.000000   \n",
              "25%            12.000000           1.000000     12.000000      3.000000   \n",
              "50%            16.000000           2.000000     16.000000      7.000000   \n",
              "75%            22.000000           3.000000     22.000000     12.000000   \n",
              "max          1960.000000          25.000000    100.000000     95.000000   \n",
              "\n",
              "       Очищенная цена за м²  \n",
              "count          1.300100e+04  \n",
              "mean           1.944625e+05  \n",
              "std            7.806590e+04  \n",
              "min            4.499000e+03  \n",
              "25%            1.487800e+05  \n",
              "50%            1.904760e+05  \n",
              "75%            2.289190e+05  \n",
              "max            2.277778e+06  "
            ],
            "text/html": [
              "\n",
              "  <div id=\"df-bcb05ee1-82ce-4733-a53d-060c1082d606\">\n",
              "    <div class=\"colab-df-container\">\n",
              "      <div>\n",
              "<style scoped>\n",
              "    .dataframe tbody tr th:only-of-type {\n",
              "        vertical-align: middle;\n",
              "    }\n",
              "\n",
              "    .dataframe tbody tr th {\n",
              "        vertical-align: top;\n",
              "    }\n",
              "\n",
              "    .dataframe thead th {\n",
              "        text-align: right;\n",
              "    }\n",
              "</style>\n",
              "<table border=\"1\" class=\"dataframe\">\n",
              "  <thead>\n",
              "    <tr style=\"text-align: right;\">\n",
              "      <th></th>\n",
              "      <th>Год постройки</th>\n",
              "      <th>Кол-во просмотров</th>\n",
              "      <th>Кол-во просмотров сегодня</th>\n",
              "      <th>Количество этажей</th>\n",
              "      <th>Количество комнат</th>\n",
              "      <th>Этажность</th>\n",
              "      <th>Номер этажа</th>\n",
              "      <th>Очищенная цена за м²</th>\n",
              "    </tr>\n",
              "  </thead>\n",
              "  <tbody>\n",
              "    <tr>\n",
              "      <th>count</th>\n",
              "      <td>7025.000000</td>\n",
              "      <td>13001.000000</td>\n",
              "      <td>7224.000000</td>\n",
              "      <td>12510.000000</td>\n",
              "      <td>13001.000000</td>\n",
              "      <td>13001.000000</td>\n",
              "      <td>13001.000000</td>\n",
              "      <td>1.300100e+04</td>\n",
              "    </tr>\n",
              "    <tr>\n",
              "      <th>mean</th>\n",
              "      <td>2001.139786</td>\n",
              "      <td>94.524190</td>\n",
              "      <td>1.844546</td>\n",
              "      <td>17.488649</td>\n",
              "      <td>1.974848</td>\n",
              "      <td>17.444043</td>\n",
              "      <td>8.624798</td>\n",
              "      <td>1.944625e+05</td>\n",
              "    </tr>\n",
              "    <tr>\n",
              "      <th>std</th>\n",
              "      <td>25.060692</td>\n",
              "      <td>199.666472</td>\n",
              "      <td>2.712400</td>\n",
              "      <td>19.682982</td>\n",
              "      <td>0.912510</td>\n",
              "      <td>9.728213</td>\n",
              "      <td>6.693463</td>\n",
              "      <td>7.806590e+04</td>\n",
              "    </tr>\n",
              "    <tr>\n",
              "      <th>min</th>\n",
              "      <td>1876.000000</td>\n",
              "      <td>1.000000</td>\n",
              "      <td>1.000000</td>\n",
              "      <td>1.000000</td>\n",
              "      <td>1.000000</td>\n",
              "      <td>1.000000</td>\n",
              "      <td>1.000000</td>\n",
              "      <td>4.499000e+03</td>\n",
              "    </tr>\n",
              "    <tr>\n",
              "      <th>25%</th>\n",
              "      <td>1979.000000</td>\n",
              "      <td>35.000000</td>\n",
              "      <td>1.000000</td>\n",
              "      <td>12.000000</td>\n",
              "      <td>1.000000</td>\n",
              "      <td>12.000000</td>\n",
              "      <td>3.000000</td>\n",
              "      <td>1.487800e+05</td>\n",
              "    </tr>\n",
              "    <tr>\n",
              "      <th>50%</th>\n",
              "      <td>2018.000000</td>\n",
              "      <td>65.000000</td>\n",
              "      <td>1.000000</td>\n",
              "      <td>16.000000</td>\n",
              "      <td>2.000000</td>\n",
              "      <td>16.000000</td>\n",
              "      <td>7.000000</td>\n",
              "      <td>1.904760e+05</td>\n",
              "    </tr>\n",
              "    <tr>\n",
              "      <th>75%</th>\n",
              "      <td>2019.000000</td>\n",
              "      <td>97.000000</td>\n",
              "      <td>2.000000</td>\n",
              "      <td>22.000000</td>\n",
              "      <td>3.000000</td>\n",
              "      <td>22.000000</td>\n",
              "      <td>12.000000</td>\n",
              "      <td>2.289190e+05</td>\n",
              "    </tr>\n",
              "    <tr>\n",
              "      <th>max</th>\n",
              "      <td>2021.000000</td>\n",
              "      <td>5739.000000</td>\n",
              "      <td>38.000000</td>\n",
              "      <td>1960.000000</td>\n",
              "      <td>25.000000</td>\n",
              "      <td>100.000000</td>\n",
              "      <td>95.000000</td>\n",
              "      <td>2.277778e+06</td>\n",
              "    </tr>\n",
              "  </tbody>\n",
              "</table>\n",
              "</div>\n",
              "      <button class=\"colab-df-convert\" onclick=\"convertToInteractive('df-bcb05ee1-82ce-4733-a53d-060c1082d606')\"\n",
              "              title=\"Convert this dataframe to an interactive table.\"\n",
              "              style=\"display:none;\">\n",
              "        \n",
              "  <svg xmlns=\"http://www.w3.org/2000/svg\" height=\"24px\"viewBox=\"0 0 24 24\"\n",
              "       width=\"24px\">\n",
              "    <path d=\"M0 0h24v24H0V0z\" fill=\"none\"/>\n",
              "    <path d=\"M18.56 5.44l.94 2.06.94-2.06 2.06-.94-2.06-.94-.94-2.06-.94 2.06-2.06.94zm-11 1L8.5 8.5l.94-2.06 2.06-.94-2.06-.94L8.5 2.5l-.94 2.06-2.06.94zm10 10l.94 2.06.94-2.06 2.06-.94-2.06-.94-.94-2.06-.94 2.06-2.06.94z\"/><path d=\"M17.41 7.96l-1.37-1.37c-.4-.4-.92-.59-1.43-.59-.52 0-1.04.2-1.43.59L10.3 9.45l-7.72 7.72c-.78.78-.78 2.05 0 2.83L4 21.41c.39.39.9.59 1.41.59.51 0 1.02-.2 1.41-.59l7.78-7.78 2.81-2.81c.8-.78.8-2.07 0-2.86zM5.41 20L4 18.59l7.72-7.72 1.47 1.35L5.41 20z\"/>\n",
              "  </svg>\n",
              "      </button>\n",
              "      \n",
              "  <style>\n",
              "    .colab-df-container {\n",
              "      display:flex;\n",
              "      flex-wrap:wrap;\n",
              "      gap: 12px;\n",
              "    }\n",
              "\n",
              "    .colab-df-convert {\n",
              "      background-color: #E8F0FE;\n",
              "      border: none;\n",
              "      border-radius: 50%;\n",
              "      cursor: pointer;\n",
              "      display: none;\n",
              "      fill: #1967D2;\n",
              "      height: 32px;\n",
              "      padding: 0 0 0 0;\n",
              "      width: 32px;\n",
              "    }\n",
              "\n",
              "    .colab-df-convert:hover {\n",
              "      background-color: #E2EBFA;\n",
              "      box-shadow: 0px 1px 2px rgba(60, 64, 67, 0.3), 0px 1px 3px 1px rgba(60, 64, 67, 0.15);\n",
              "      fill: #174EA6;\n",
              "    }\n",
              "\n",
              "    [theme=dark] .colab-df-convert {\n",
              "      background-color: #3B4455;\n",
              "      fill: #D2E3FC;\n",
              "    }\n",
              "\n",
              "    [theme=dark] .colab-df-convert:hover {\n",
              "      background-color: #434B5C;\n",
              "      box-shadow: 0px 1px 3px 1px rgba(0, 0, 0, 0.15);\n",
              "      filter: drop-shadow(0px 1px 2px rgba(0, 0, 0, 0.3));\n",
              "      fill: #FFFFFF;\n",
              "    }\n",
              "  </style>\n",
              "\n",
              "      <script>\n",
              "        const buttonEl =\n",
              "          document.querySelector('#df-bcb05ee1-82ce-4733-a53d-060c1082d606 button.colab-df-convert');\n",
              "        buttonEl.style.display =\n",
              "          google.colab.kernel.accessAllowed ? 'block' : 'none';\n",
              "\n",
              "        async function convertToInteractive(key) {\n",
              "          const element = document.querySelector('#df-bcb05ee1-82ce-4733-a53d-060c1082d606');\n",
              "          const dataTable =\n",
              "            await google.colab.kernel.invokeFunction('convertToInteractive',\n",
              "                                                     [key], {});\n",
              "          if (!dataTable) return;\n",
              "\n",
              "          const docLinkHtml = 'Like what you see? Visit the ' +\n",
              "            '<a target=\"_blank\" href=https://colab.research.google.com/notebooks/data_table.ipynb>data table notebook</a>'\n",
              "            + ' to learn more about interactive tables.';\n",
              "          element.innerHTML = '';\n",
              "          dataTable['output_type'] = 'display_data';\n",
              "          await google.colab.output.renderOutput(dataTable, element);\n",
              "          const docLink = document.createElement('div');\n",
              "          docLink.innerHTML = docLinkHtml;\n",
              "          element.appendChild(docLink);\n",
              "        }\n",
              "      </script>\n",
              "    </div>\n",
              "  </div>\n",
              "  "
            ]
          },
          "metadata": {},
          "execution_count": 8
        }
      ]
    },
    {
      "cell_type": "markdown",
      "source": [
        " ## Шаблон анализа"
      ],
      "metadata": {
        "id": "tw6Ei27Rtbl5"
      }
    },
    {
      "cell_type": "code",
      "source": [
        "# Создание переменной с Series\n",
        "year_of_construction = dataset['Год постройки']"
      ],
      "metadata": {
        "id": "YKFVdPRb1J1n"
      },
      "execution_count": 9,
      "outputs": []
    },
    {
      "cell_type": "code",
      "source": [
        "# Расчет минимального и максимального значения Series\n",
        "max_value = year_of_construction.max()\n",
        "min_value = year_of_construction.min()\n",
        "print('Максимальный год постройки: ', max_value, 'Минимальный год постройки: ', min_value)"
      ],
      "metadata": {
        "id": "nQvMxTdztcKz"
      },
      "execution_count": null,
      "outputs": []
    },
    {
      "cell_type": "code",
      "source": [
        "# Расчет среднего значения Series\n",
        "mean_value = year_of_construction.mean()\n",
        "print('Средний год постройки: ', mean_value)"
      ],
      "metadata": {
        "id": "nHxv2efkzNtm",
        "outputId": "031ed4f9-f309-4c60-f06a-9d3d1cc2cbdc",
        "colab": {
          "base_uri": "https://localhost:8080/"
        }
      },
      "execution_count": 10,
      "outputs": [
        {
          "output_type": "stream",
          "name": "stdout",
          "text": [
            "Средний год постройки:  2001.1397864768683\n"
          ]
        }
      ]
    },
    {
      "cell_type": "code",
      "source": [
        "# Расчет медианы Series\n",
        "median_value = year_of_construction.median()\n",
        "print('Медиана года постройки: ', median_value)"
      ],
      "metadata": {
        "id": "_zcDBlTdzOmn",
        "outputId": "01677be4-388f-452b-b928-4769a45acc2b",
        "colab": {
          "base_uri": "https://localhost:8080/"
        }
      },
      "execution_count": 11,
      "outputs": [
        {
          "output_type": "stream",
          "name": "stdout",
          "text": [
            "Медиана года постройки:  2018.0\n"
          ]
        }
      ]
    },
    {
      "cell_type": "code",
      "source": [
        "# Расчет 10-го и 25-го процентилей Series\n",
        "percentile_10_value = year_of_construction.quantile(0.10)\n",
        "percentile_25_value = year_of_construction.quantile(0.25)\n",
        "print('10-й процентиль года постройки: ', percentile_10_value)\n",
        "print('25-й процентиль года постройки: ', percentile_25_value)"
      ],
      "metadata": {
        "id": "C8nqpq4b0x2n",
        "outputId": "95871870-44c4-4529-97ef-d5dd2ebbd2f0",
        "colab": {
          "base_uri": "https://localhost:8080/"
        }
      },
      "execution_count": 12,
      "outputs": [
        {
          "output_type": "stream",
          "name": "stdout",
          "text": [
            "10-й процентиль года постройки:  1962.0\n",
            "25-й процентиль года постройки:  1979.0\n"
          ]
        }
      ]
    },
    {
      "cell_type": "code",
      "source": [
        "## Расчет 70-го процентилей \n",
        "percentile_70_value = year_of_construction.quantile(0.70)\n",
        "percentile_70_value"
      ],
      "metadata": {
        "id": "FG0XG9VqU_Kj",
        "outputId": "43b06de6-ed7d-4fd8-ca47-645ef66d33f4",
        "colab": {
          "base_uri": "https://localhost:8080/"
        }
      },
      "execution_count": 38,
      "outputs": [
        {
          "output_type": "execute_result",
          "data": {
            "text/plain": [
              "2019.0"
            ]
          },
          "metadata": {},
          "execution_count": 38
        }
      ]
    },
    {
      "cell_type": "code",
      "source": [
        "# Для расчета всех основных статистических показателей сразу\n",
        "year_of_construction.describe()"
      ],
      "metadata": {
        "id": "U4GY3Nzh1BrO",
        "outputId": "731741a9-8a1f-4545-833d-ec766c0a19ed",
        "colab": {
          "base_uri": "https://localhost:8080/"
        }
      },
      "execution_count": 13,
      "outputs": [
        {
          "output_type": "execute_result",
          "data": {
            "text/plain": [
              "count    7025.000000\n",
              "mean     2001.139786\n",
              "std        25.060692\n",
              "min      1876.000000\n",
              "25%      1979.000000\n",
              "50%      2018.000000\n",
              "75%      2019.000000\n",
              "max      2021.000000\n",
              "Name: Год постройки, dtype: float64"
            ]
          },
          "metadata": {},
          "execution_count": 13
        }
      ]
    },
    {
      "cell_type": "markdown",
      "source": [
        "## Графический анализ ящик с усами — boxplot "
      ],
      "metadata": {
        "id": "DSilx77a6r8x"
      }
    },
    {
      "cell_type": "code",
      "source": [
        "import matplotlib.pyplot as plt"
      ],
      "metadata": {
        "id": "lRMXtrGhcUtb"
      },
      "execution_count": 14,
      "outputs": []
    },
    {
      "cell_type": "code",
      "source": [
        "floor_number = dataset['Номер этажа']"
      ],
      "metadata": {
        "id": "Q3CUsRmvyLF_"
      },
      "execution_count": 15,
      "outputs": []
    },
    {
      "cell_type": "code",
      "source": [
        "plt.boxplot(floor_number)\n",
        "plt.show()"
      ],
      "metadata": {
        "id": "OfSuAEvfoDIm",
        "outputId": "cadb900a-f267-47a1-f922-7664804569ce",
        "colab": {
          "base_uri": "https://localhost:8080/",
          "height": 430
        }
      },
      "execution_count": 16,
      "outputs": [
        {
          "output_type": "display_data",
          "data": {
            "text/plain": [
              "<Figure size 640x480 with 1 Axes>"
            ],
            "image/png": "[encoded data removed]"
          },
          "metadata": {}
        }
      ]
    },
    {
      "cell_type": "code",
      "source": [
        "year_of_construction = dataset['Год постройки']\n",
        "plt.boxplot(year_of_construction)\n",
        "plt.show()"
      ],
      "metadata": {
        "id": "YFptSEsO47xO",
        "outputId": "073b702e-33c5-481b-ffce-d08e075f78a2",
        "colab": {
          "base_uri": "https://localhost:8080/",
          "height": 430
        }
      },
      "execution_count": 17,
      "outputs": [
        {
          "output_type": "display_data",
          "data": {
            "text/plain": [
              "<Figure size 640x480 with 1 Axes>"
            ],
            "image/png": "[encoded data removed]"
          },
          "metadata": {}
        }
      ]
    },
    {
      "cell_type": "code",
      "source": [
        "year_of_construction_without_na = year_of_construction.dropna()\n",
        "year_of_construction_without_na"
      ],
      "metadata": {
        "id": "Q9zOv-24g3Zr",
        "outputId": "284c2ce5-248f-4eff-f39c-e28ef90b8f0a",
        "colab": {
          "base_uri": "https://localhost:8080/"
        }
      },
      "execution_count": 18,
      "outputs": [
        {
          "output_type": "execute_result",
          "data": {
            "text/plain": [
              "0        1967.0\n",
              "1        2020.0\n",
              "2        2018.0\n",
              "3        2019.0\n",
              "4        2017.0\n",
              "          ...  \n",
              "12996    2019.0\n",
              "12997    2019.0\n",
              "12998    2019.0\n",
              "12999    2019.0\n",
              "13000    2019.0\n",
              "Name: Год постройки, Length: 7025, dtype: float64"
            ]
          },
          "metadata": {},
          "execution_count": 18
        }
      ]
    },
    {
      "cell_type": "code",
      "source": [
        "plt.boxplot(year_of_construction_without_na)\n",
        "plt.show()"
      ],
      "metadata": {
        "id": "mCOSMuunf7oQ",
        "outputId": "a8ef18cf-bcd2-48f1-928e-1ced8ec36bf6",
        "colab": {
          "base_uri": "https://localhost:8080/",
          "height": 430
        }
      },
      "execution_count": 19,
      "outputs": [
        {
          "output_type": "display_data",
          "data": {
            "text/plain": [
              "<Figure size 640x480 with 1 Axes>"
            ],
            "image/png": "[encoded data removed]"
          },
          "metadata": {}
        }
      ]
    },
    {
      "cell_type": "code",
      "source": [
        "#количество комнат\n",
        "rooms = dataset['Количество комнат']\n",
        "plt.boxplot(floor_number)\n",
        "plt.show()"
      ],
      "metadata": {
        "id": "q3nKaJqmTRfQ",
        "outputId": "e0d5c99c-f461-4620-89ae-c5a07230c900",
        "colab": {
          "base_uri": "https://localhost:8080/",
          "height": 430
        }
      },
      "execution_count": 24,
      "outputs": [
        {
          "output_type": "display_data",
          "data": {
            "text/plain": [
              "<Figure size 640x480 with 1 Axes>"
            ],
            "image/png": "[encoded data removed]"
          },
          "metadata": {}
        }
      ]
    },
    {
      "cell_type": "code",
      "source": [
        "etage = dataset['Этажность']\n",
        "plt.boxplot(etage)\n",
        "plt.show()"
      ],
      "metadata": {
        "id": "8mMSGGQTT6oh",
        "outputId": "25de4888-5556-480a-d9e5-636d1a5545be",
        "colab": {
          "base_uri": "https://localhost:8080/",
          "height": 430
        }
      },
      "execution_count": 26,
      "outputs": [
        {
          "output_type": "display_data",
          "data": {
            "text/plain": [
              "<Figure size 640x480 with 1 Axes>"
            ],
            "image/png": "[encoded data removed]"
          },
          "metadata": {}
        }
      ]
    },
    {
      "cell_type": "markdown",
      "source": [
        "## Графический анализ — гистограмма "
      ],
      "metadata": {
        "id": "tq5fyxCcrpp2"
      }
    },
    {
      "cell_type": "code",
      "source": [
        "plt.hist(year_of_construction)\n",
        "plt.show()"
      ],
      "metadata": {
        "id": "6BoZBC7XO8pk",
        "outputId": "060dd546-e484-4464-b300-a7e2584cde3e",
        "colab": {
          "base_uri": "https://localhost:8080/",
          "height": 430
        }
      },
      "execution_count": 27,
      "outputs": [
        {
          "output_type": "display_data",
          "data": {
            "text/plain": [
              "<Figure size 640x480 with 1 Axes>"
            ],
            "image/png": "[encoded data removed]"
          },
          "metadata": {}
        }
      ]
    },
    {
      "cell_type": "code",
      "source": [
        "plt.hist(dataset['Номер этажа'].dropna(), bins = 10)\n",
        "plt.show()"
      ],
      "metadata": {
        "id": "HjE4pv_GtRqR",
        "outputId": "491fbe76-8891-4cac-dbc6-e1ec9c8e3b8f",
        "colab": {
          "base_uri": "https://localhost:8080/",
          "height": 430
        }
      },
      "execution_count": 28,
      "outputs": [
        {
          "output_type": "display_data",
          "data": {
            "text/plain": [
              "<Figure size 640x480 with 1 Axes>"
            ],
            "image/png": "[encoded data removed]"
          },
          "metadata": {}
        }
      ]
    },
    {
      "cell_type": "code",
      "source": [
        "plt.hist(dataset['Номер этажа'], bins = 100)\n",
        "plt.show()"
      ],
      "metadata": {
        "id": "IEt0V8Xxtk20",
        "outputId": "16481a2c-7c43-452b-ae7f-49f909bf18e4",
        "colab": {
          "base_uri": "https://localhost:8080/",
          "height": 430
        }
      },
      "execution_count": 29,
      "outputs": [
        {
          "output_type": "display_data",
          "data": {
            "text/plain": [
              "<Figure size 640x480 with 1 Axes>"
            ],
            "image/png": "[encoded data removed]"
          },
          "metadata": {}
        }
      ]
    },
    {
      "cell_type": "code",
      "source": [
        "plt.hist(dataset['Номер этажа'], bins = 25)\n",
        "plt.show()"
      ],
      "metadata": {
        "id": "c6XzVifItrs8",
        "outputId": "fbd14994-0588-436e-8613-8d36ae17d11b",
        "colab": {
          "base_uri": "https://localhost:8080/",
          "height": 430
        }
      },
      "execution_count": 30,
      "outputs": [
        {
          "output_type": "display_data",
          "data": {
            "text/plain": [
              "<Figure size 640x480 with 1 Axes>"
            ],
            "image/png": "[encoded data removed]"
          },
          "metadata": {}
        }
      ]
    },
    {
      "cell_type": "code",
      "source": [
        "rooms = dataset['Количество комнат']\n",
        "plt.hist(rooms, bins = 25)\n",
        "plt.show()"
      ],
      "metadata": {
        "id": "wcfunsphUK3S",
        "outputId": "5210d342-fa8d-402a-b9af-b21e873bec21",
        "colab": {
          "base_uri": "https://localhost:8080/",
          "height": 430
        }
      },
      "execution_count": 34,
      "outputs": [
        {
          "output_type": "display_data",
          "data": {
            "text/plain": [
              "<Figure size 640x480 with 1 Axes>"
            ],
            "image/png": "[encoded data removed]"
          },
          "metadata": {}
        }
      ]
    },
    {
      "cell_type": "code",
      "source": [
        "etage = dataset['Этажность']\n",
        "plt.hist(etage, bins = 25)\n",
        "plt.show()"
      ],
      "metadata": {
        "id": "mSAJLRexUWQc",
        "outputId": "35baeece-c2ae-498c-895f-22413705e6e2",
        "colab": {
          "base_uri": "https://localhost:8080/",
          "height": 430
        }
      },
      "execution_count": 35,
      "outputs": [
        {
          "output_type": "display_data",
          "data": {
            "text/plain": [
              "<Figure size 640x480 with 1 Axes>"
            ],
            "image/png": "[encoded data removed]"
          },
          "metadata": {}
        }
      ]
    },
    {
      "cell_type": "markdown",
      "source": [
        "## Выбросы и их обработка"
      ],
      "metadata": {
        "id": "rWde_Ud5sR5q"
      }
    },
    {
      "cell_type": "code",
      "source": [
        "plt.hist(dataset['Номер этажа'], bins = 50)\n",
        "plt.show()"
      ],
      "metadata": {
        "id": "50wov3h0lXMn",
        "outputId": "dc1b723f-af9b-46a7-e693-26fb9de2bed3",
        "colab": {
          "base_uri": "https://localhost:8080/",
          "height": 430
        }
      },
      "execution_count": 39,
      "outputs": [
        {
          "output_type": "display_data",
          "data": {
            "text/plain": [
              "<Figure size 640x480 with 1 Axes>"
            ],
            "image/png": "[encoded data removed]"
          },
          "metadata": {}
        }
      ]
    },
    {
      "cell_type": "code",
      "source": [
        "plt.hist(dataset['Номер этажа'], bins = 50)\n",
        "\n",
        "plt.xlim((None,55))\n",
        "plt.show()"
      ],
      "metadata": {
        "id": "AX0ohD0Pni5j",
        "outputId": "ab517aa8-04c7-4631-d83d-ea288215e677",
        "colab": {
          "base_uri": "https://localhost:8080/",
          "height": 430
        }
      },
      "execution_count": 40,
      "outputs": [
        {
          "output_type": "display_data",
          "data": {
            "text/plain": [
              "<Figure size 640x480 with 1 Axes>"
            ],
            "image/png": "[encoded data removed]"
          },
          "metadata": {}
        }
      ]
    },
    {
      "cell_type": "markdown",
      "source": [
        "## Какие выводы мы можем сделать из проведенного анализа?"
      ],
      "metadata": {
        "id": "pED9W3rtqFGC"
      }
    },
    {
      "cell_type": "code",
      "source": [
        "plt.hist(dataset['Год постройки'].dropna(), bins = 50)\n",
        "plt.show()"
      ],
      "metadata": {
        "id": "P6PBOYH0Dmbz"
      },
      "execution_count": null,
      "outputs": []
    },
    {
      "cell_type": "code",
      "source": [
        "plt.hist(dataset['Номер этажа'], bins = 50)\n",
        "\n",
        "plt.xlim((None,50))\n",
        "plt.show()"
      ],
      "metadata": {
        "id": "a6CaEr01DjPr"
      },
      "execution_count": null,
      "outputs": []
    },
    {
      "cell_type": "markdown",
      "source": [
        " ## Шаблон анализа"
      ],
      "metadata": {
        "id": "Lf4yZ_Ycu8DY"
      }
    },
    {
      "cell_type": "code",
      "source": [
        "# Импортируем библиотеку визуализации\n",
        "import matplotlib.pyplot as plt"
      ],
      "metadata": {
        "id": "p2koBYbJBfU2"
      },
      "execution_count": null,
      "outputs": []
    },
    {
      "cell_type": "code",
      "source": [
        "# Для визуального представления данных в том числе медианы, квартилей и выбросов используем boxplot\n",
        "plt.boxplot(dataset['Номер этажа'])\n",
        "plt.show()"
      ],
      "metadata": {
        "id": "bnV_zS1pvzhA"
      },
      "execution_count": null,
      "outputs": []
    },
    {
      "cell_type": "code",
      "source": [
        "# Альтернативный способ визуализировать колонку - гистограмма\n",
        "plt.hist(dataset['Номер этажа'], bins = 50)\n",
        "plt.xlim((None,55)) # для \"отрезания\" от графика неинформативного\n",
        "plt.show()"
      ],
      "metadata": {
        "id": "iAAWSii1v48Y"
      },
      "execution_count": null,
      "outputs": []
    },
    {
      "cell_type": "markdown",
      "source": [
        "#### Как выбирать колонки для анализа?\n",
        "Для выбора используем одну из двух тактик: \n",
        "\n",
        "1) Пытаемся сформулировать вопросы для интересных вам колонок и ответить на них \n",
        "\n",
        "2) Анализировать каждую колонку по порядку"
      ],
      "metadata": {
        "id": "Yt5EsutdwZkw"
      }
    }
  ]
}
